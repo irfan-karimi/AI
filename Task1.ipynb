{
  "nbformat": 4,
  "nbformat_minor": 0,
  "metadata": {
    "colab": {
      "provenance": [],
      "authorship_tag": "ABX9TyNELoR3nfIn+SzpeV1eryhX",
      "include_colab_link": true
    },
    "kernelspec": {
      "name": "python3",
      "display_name": "Python 3"
    },
    "language_info": {
      "name": "python"
    }
  },
  "cells": [
    {
      "cell_type": "markdown",
      "metadata": {
        "id": "view-in-github",
        "colab_type": "text"
      },
      "source": [
        "<a href=\"https://colab.research.google.com/github/irfan-karimi/AI/blob/main/Task1.ipynb\" target=\"_parent\"><img src=\"https://colab.research.google.com/assets/colab-badge.svg\" alt=\"Open In Colab\"/></a>"
      ]
    },
    {
      "cell_type": "code",
      "execution_count": 1,
      "metadata": {
        "colab": {
          "base_uri": "https://localhost:8080/"
        },
        "id": "ulueqSQaWfBH",
        "outputId": "b8aa9fd2-ac26-41f5-e8df-b3d48c159b48"
      },
      "outputs": [
        {
          "output_type": "stream",
          "name": "stdout",
          "text": [
            "[4 5 6]\n"
          ]
        }
      ],
      "source": [
        "import numpy as np\n",
        "\n",
        "# Example arr2\n",
        "arr2 = np.array([[1, 2, 3],\n",
        "                 [4, 5, 6],\n",
        "                 [7, 8, 9]])\n",
        "\n",
        "# Extracting the second row (index 1)\n",
        "second_row = arr2[1]\n",
        "print(second_row)\n",
        "\n",
        "import numpy as np\n",
        "\n",
        "array_2d = np.arange(1, 10).reshape(3, 3)\n",
        "print(array_2d)\n",
        "\n",
        "\n"
      ]
    },
    {
      "cell_type": "code",
      "source": [
        "import numpy as np\n",
        "\n",
        "array_3d = np.random.randint(1, 101, size=(2, 3, 4))\n",
        "print(array_3d)"
      ],
      "metadata": {
        "id": "XpaXNgzhW7KT"
      },
      "execution_count": null,
      "outputs": []
    },
    {
      "cell_type": "code",
      "source": [
        "import numpy as np\n",
        "\n",
        "# Example arr1 (1D array with 10 elements)\n",
        "arr1 = np.array([1, 2, 3, 4, 5, 6, 7, 8, 9, 10])\n",
        "\n",
        "# Reshaping the 1D array into a 2x5 2D array\n",
        "reshaped_arr = arr1.reshape(2, 5)\n",
        "print(reshaped_arr)\n"
      ],
      "metadata": {
        "id": "vz5ujzwxXfPQ"
      },
      "execution_count": null,
      "outputs": []
    },
    {
      "cell_type": "code",
      "source": [
        "# Adding 10 to each element of arr1\n",
        "arr1_plus_10 = arr1 + 10\n",
        "print(arr1_plus_10)\n"
      ],
      "metadata": {
        "id": "Svc4biMOXpzI"
      },
      "execution_count": null,
      "outputs": []
    },
    {
      "cell_type": "code",
      "source": [
        "# Example arr2 (2D array)\n",
        "arr2 = np.array([[1, 2, 3],\n",
        "                 [4, 5, 6],\n",
        "                 [7, 8, 9]])\n",
        "\n",
        "# Multiplying each element of arr2 by 2\n",
        "arr2_times_2 = arr2 * 2\n",
        "print(arr2_times_2)\n"
      ],
      "metadata": {
        "id": "OZeJdPH_XvMA"
      },
      "execution_count": null,
      "outputs": []
    },
    {
      "cell_type": "code",
      "source": [
        "import numpy as numpy\n",
        "\n",
        "array_1d = numpy.arange(10)\n",
        "print(array_1d)\n",
        "\n",
        "\n",
        "\n",
        "\n",
        "array_2d = numpy.arange(1, 10).reshape(3, 3)\n",
        "print(array_2d)"
      ],
      "metadata": {
        "id": "a0wJK8hhXxQg"
      },
      "execution_count": null,
      "outputs": []
    }
  ]
}
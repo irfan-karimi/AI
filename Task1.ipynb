{
  "nbformat": 4,
  "nbformat_minor": 0,
  "metadata": {
    "colab": {
      "provenance": [],
      "authorship_tag": "ABX9TyNmI3TBYlkZFFI5hKDO+peX",
      "include_colab_link": true
    },
    "kernelspec": {
      "name": "python3",
      "display_name": "Python 3"
    },
    "language_info": {
      "name": "python"
    }
  },
  "cells": [
    {
      "cell_type": "markdown",
      "metadata": {
        "id": "view-in-github",
        "colab_type": "text"
      },
      "source": [
        "<a href=\"https://colab.research.google.com/github/irfan-karimi/AI/blob/main/Task1.ipynb\" target=\"_parent\"><img src=\"https://colab.research.google.com/assets/colab-badge.svg\" alt=\"Open In Colab\"/></a>"
      ]
    },
    {
      "cell_type": "code",
      "execution_count": 6,
      "metadata": {
        "colab": {
          "base_uri": "https://localhost:8080/"
        },
        "id": "tjM7hrXmPye7",
        "outputId": "39bd9a41-1051-45a5-9bfe-ea787a8cc368"
      },
      "outputs": [
        {
          "output_type": "stream",
          "name": "stdout",
          "text": [
            "[0 1 2 3 4 5 6 7 8 9]\n",
            "[[1 2 3]\n",
            " [4 5 6]\n",
            " [7 8 9]]\n",
            "[[[92 36  4 31]\n",
            "  [66 69 29 48]\n",
            "  [96 23 99 14]]\n",
            "\n",
            " [[12 26 52 15]\n",
            "  [ 6 79 13 33]\n",
            "  [ 6 46 35 99]]]\n"
          ]
        }
      ],
      "source": [
        "import numpy as numpy\n",
        "\n",
        "array_1d = numpy.arange(10)\n",
        "print(array_1d)\n",
        "\n",
        "\n",
        "\n",
        "\n",
        "array_2d = numpy.arange(1, 10).reshape(3, 3)\n",
        "print(array_2d)\n",
        "\n",
        "array_3d = numpy.random.randint(1, 101, size=(2, 3, 4))\n",
        "print(array_3d)"
      ]
    }
  ]
}